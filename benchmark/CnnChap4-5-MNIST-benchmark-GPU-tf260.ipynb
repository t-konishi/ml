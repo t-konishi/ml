{
 "cells": [
  {
   "cell_type": "code",
   "execution_count": 1,
   "metadata": {},
   "outputs": [],
   "source": [
    "# GPU無効化\n",
    "# import os\n",
    "# os.environ[\"CUDA_VISIBLE_DEVICES\"] = \"-1\""
   ]
  },
  {
   "cell_type": "code",
   "execution_count": 2,
   "metadata": {},
   "outputs": [],
   "source": [
    "# データ処理のライブラリ\n",
    "import numpy as np \n",
    "import pandas as pd\n",
    "\n",
    "# データ可視化のライブラリ\n",
    "import matplotlib\n",
    "import matplotlib.pyplot as plt\n",
    "%matplotlib inline \n",
    "\n",
    "# 機械学習ライブラリ scikit-learn\n",
    "from sklearn.model_selection import train_test_split\n",
    "from sklearn.model_selection import cross_val_score\n",
    "from sklearn.metrics import confusion_matrix, accuracy_score\n",
    "from sklearn.datasets import fetch_openml\n",
    "\n",
    "# 機械学習ライブラリ keras\n",
    "import keras as ks\n",
    "from keras.models import Sequential\n",
    "from keras.layers import Dense, Dropout, Flatten, Conv2D, MaxPooling2D\n",
    "from keras.utils import np_utils"
   ]
  },
  {
   "cell_type": "code",
   "execution_count": 3,
   "metadata": {},
   "outputs": [
    {
     "name": "stdout",
     "output_type": "stream",
     "text": [
      "2.6.0\n"
     ]
    }
   ],
   "source": [
    "import tensorflow as tf\n",
    "print(tf.__version__) # 2.6.0"
   ]
  },
  {
   "cell_type": "code",
   "execution_count": 4,
   "metadata": {},
   "outputs": [
    {
     "name": "stdout",
     "output_type": "stream",
     "text": [
      "2.6.0\n"
     ]
    }
   ],
   "source": [
    "print(ks.__version__) # 2.6.0"
   ]
  },
  {
   "cell_type": "code",
   "execution_count": 5,
   "metadata": {},
   "outputs": [],
   "source": [
    "# MNISTデータセットの読み込み\n",
    "mnist = fetch_openml('MNIST_784', version=1)\n",
    "\n",
    "# 特徴量とターゲットへ切り分け\n",
    "X, y = mnist['data'], mnist['target']\n",
    "\n",
    "# 訓練/テストセットへ分割\n",
    "X_train, X_test, y_train, y_test = train_test_split(X,y, test_size=.2, random_state=42) \n",
    "\n",
    "# 訓練データの最初の1万件のみへ縮小\n",
    "# X_train = X_train[:10000]\n",
    "# y_train = y_train[:10000]\n",
    "\n",
    "# テストデータの最初の1万件のみへ縮小\n",
    "# X_test = X_test[:10000]\n",
    "# y_test = y_test[:10000]\n",
    "\n",
    "# 正規化\n",
    "X_train = X_train.astype('float32') / 255\n",
    "X_test = X_test.astype('float32') / 255"
   ]
  },
  {
   "cell_type": "code",
   "execution_count": 6,
   "metadata": {},
   "outputs": [
    {
     "name": "stdout",
     "output_type": "stream",
     "text": [
      "(56000, 784)\n",
      "(14000, 784)\n"
     ]
    }
   ],
   "source": [
    "# 特徴量データのサイズ\n",
    "print(X_train.shape)\n",
    "print(X_test.shape)"
   ]
  },
  {
   "cell_type": "code",
   "execution_count": 7,
   "metadata": {},
   "outputs": [
    {
     "name": "stdout",
     "output_type": "stream",
     "text": [
      "(56000, 28, 28, 1)\n",
      "(14000, 28, 28, 1)\n"
     ]
    }
   ],
   "source": [
    "# Keras用にデータを整形\n",
    "X_train = X_train.reshape(X_train.shape[0], 28, 28,1)\n",
    "X_test = X_test.reshape(X_test.shape[0], 28, 28,1)\n",
    "print(X_train.shape)\n",
    "print(X_test.shape)"
   ]
  },
  {
   "cell_type": "code",
   "execution_count": 8,
   "metadata": {},
   "outputs": [
    {
     "name": "stdout",
     "output_type": "stream",
     "text": [
      "['5' '4' '8' '0' '2']\n",
      "['8' '4' '8' '7' '7']\n"
     ]
    }
   ],
   "source": [
    "# ターゲットデータの確認\n",
    "print(y_train[0:5])\n",
    "print(y_test[0:5])"
   ]
  },
  {
   "cell_type": "code",
   "execution_count": 9,
   "metadata": {},
   "outputs": [
    {
     "name": "stdout",
     "output_type": "stream",
     "text": [
      "[[0. 0. 0. 0. 0. 1. 0. 0. 0. 0.]\n",
      " [0. 0. 0. 0. 1. 0. 0. 0. 0. 0.]\n",
      " [0. 0. 0. 0. 0. 0. 0. 0. 1. 0.]\n",
      " [1. 0. 0. 0. 0. 0. 0. 0. 0. 0.]\n",
      " [0. 0. 1. 0. 0. 0. 0. 0. 0. 0.]]\n",
      "[[0. 0. 0. 0. 0. 0. 0. 0. 1. 0.]\n",
      " [0. 0. 0. 0. 1. 0. 0. 0. 0. 0.]\n",
      " [0. 0. 0. 0. 0. 0. 0. 0. 1. 0.]\n",
      " [0. 0. 0. 0. 0. 0. 0. 1. 0. 0.]\n",
      " [0. 0. 0. 0. 0. 0. 0. 1. 0. 0.]]\n"
     ]
    }
   ],
   "source": [
    "# ターゲットデータをクラスベクトルへ変換\n",
    "y_train = np_utils.to_categorical(y_train, 10)\n",
    "y_test = np_utils.to_categorical(y_test, 10)\n",
    "\n",
    "print(y_train[0:5])\n",
    "print(y_test[0:5])"
   ]
  },
  {
   "cell_type": "code",
   "execution_count": 10,
   "metadata": {},
   "outputs": [],
   "source": [
    "# Sequentialモデル\n",
    "model = Sequential()"
   ]
  },
  {
   "cell_type": "code",
   "execution_count": 11,
   "metadata": {},
   "outputs": [],
   "source": [
    "# 入力層と畳み込み層\n",
    "model.add(Conv2D(8, kernel_size=(3, 3),\n",
    "                 activation='relu',\n",
    "                 input_shape=(28,28,1)))"
   ]
  },
  {
   "cell_type": "code",
   "execution_count": 12,
   "metadata": {},
   "outputs": [],
   "source": [
    "# プール層\n",
    "model.add(MaxPooling2D(pool_size=(2, 2)))"
   ]
  },
  {
   "cell_type": "code",
   "execution_count": 13,
   "metadata": {},
   "outputs": [],
   "source": [
    "# ドロップアウト\n",
    "model.add(Dropout(0.25))"
   ]
  },
  {
   "cell_type": "code",
   "execution_count": 14,
   "metadata": {},
   "outputs": [],
   "source": [
    "# 全結合層\n",
    "model.add(Flatten())\n",
    "model.add(Dense(128, activation='relu'))"
   ]
  },
  {
   "cell_type": "code",
   "execution_count": 15,
   "metadata": {},
   "outputs": [],
   "source": [
    "# 出力層\n",
    "model.add(Dense(10, activation='softmax'))"
   ]
  },
  {
   "cell_type": "code",
   "execution_count": 16,
   "metadata": {},
   "outputs": [
    {
     "name": "stdout",
     "output_type": "stream",
     "text": [
      "Model: \"sequential\"\n",
      "_________________________________________________________________\n",
      "Layer (type)                 Output Shape              Param #   \n",
      "=================================================================\n",
      "conv2d (Conv2D)              (None, 26, 26, 8)         80        \n",
      "_________________________________________________________________\n",
      "max_pooling2d (MaxPooling2D) (None, 13, 13, 8)         0         \n",
      "_________________________________________________________________\n",
      "dropout (Dropout)            (None, 13, 13, 8)         0         \n",
      "_________________________________________________________________\n",
      "flatten (Flatten)            (None, 1352)              0         \n",
      "_________________________________________________________________\n",
      "dense (Dense)                (None, 128)               173184    \n",
      "_________________________________________________________________\n",
      "dense_1 (Dense)              (None, 10)                1290      \n",
      "=================================================================\n",
      "Total params: 174,554\n",
      "Trainable params: 174,554\n",
      "Non-trainable params: 0\n",
      "_________________________________________________________________\n"
     ]
    }
   ],
   "source": [
    "model.summary()"
   ]
  },
  {
   "cell_type": "code",
   "execution_count": 17,
   "metadata": {},
   "outputs": [],
   "source": [
    "# モデル コンパイル\n",
    "model.compile(loss='categorical_crossentropy',\n",
    "              optimizer='sgd',\n",
    "              metrics=['accuracy'])"
   ]
  },
  {
   "cell_type": "code",
   "execution_count": 18,
   "metadata": {},
   "outputs": [],
   "source": [
    "# 時間計測\n",
    "import time\n",
    "start_time = time.time()"
   ]
  },
  {
   "cell_type": "code",
   "execution_count": 19,
   "metadata": {},
   "outputs": [
    {
     "name": "stdout",
     "output_type": "stream",
     "text": [
      "Epoch 1/50\n",
      "1750/1750 [==============================] - 7s 3ms/step - loss: 0.6032 - accuracy: 0.8165\n",
      "Epoch 2/50\n",
      "1750/1750 [==============================] - 5s 3ms/step - loss: 0.3119 - accuracy: 0.9047: 0s -\n",
      "Epoch 3/50\n",
      "1750/1750 [==============================] - 5s 3ms/step - loss: 0.2462 - accuracy: 0.9244: \n",
      "Epoch 4/50\n",
      "1750/1750 [==============================] - 5s 3ms/step - loss: 0.2063 - accuracy: 0.9366: 0s - loss: 0.2073 - accuracy: \n",
      "Epoch 5/50\n",
      "1750/1750 [==============================] - 5s 3ms/step - loss: 0.1789 - accuracy: 0.9454\n",
      "Epoch 6/50\n",
      "1750/1750 [==============================] - 5s 3ms/step - loss: 0.1589 - accuracy: 0.9504\n",
      "Epoch 7/50\n",
      "1750/1750 [==============================] - 5s 3ms/step - loss: 0.1427 - accuracy: 0.9566\n",
      "Epoch 8/50\n",
      "1750/1750 [==============================] - 5s 3ms/step - loss: 0.1340 - accuracy: 0.9579\n",
      "Epoch 9/50\n",
      "1750/1750 [==============================] - 5s 3ms/step - loss: 0.1229 - accuracy: 0.9609\n",
      "Epoch 10/50\n",
      "1750/1750 [==============================] - 5s 3ms/step - loss: 0.1167 - accuracy: 0.9632\n",
      "Epoch 11/50\n",
      "1750/1750 [==============================] - 5s 3ms/step - loss: 0.1109 - accuracy: 0.9643\n",
      "Epoch 12/50\n",
      "1750/1750 [==============================] - ETA: 0s - loss: 0.1027 - accuracy: 0.96 - 5s 3ms/step - loss: 0.1029 - accuracy: 0.9678\n",
      "Epoch 13/50\n",
      "1750/1750 [==============================] - 5s 3ms/step - loss: 0.0987 - accuracy: 0.9693\n",
      "Epoch 14/50\n",
      "1750/1750 [==============================] - 5s 3ms/step - loss: 0.0946 - accuracy: 0.9707 - ETA: 0s -\n",
      "Epoch 15/50\n",
      "1750/1750 [==============================] - 5s 3ms/step - loss: 0.0908 - accuracy: 0.9715: 0s - loss: 0.0909 - accuracy: 0.\n",
      "Epoch 16/50\n",
      "1750/1750 [==============================] - 5s 3ms/step - loss: 0.0884 - accuracy: 0.9712\n",
      "Epoch 17/50\n",
      "1750/1750 [==============================] - 5s 3ms/step - loss: 0.0844 - accuracy: 0.9732\n",
      "Epoch 18/50\n",
      "1750/1750 [==============================] - 5s 3ms/step - loss: 0.0826 - accuracy: 0.9742\n",
      "Epoch 19/50\n",
      "1750/1750 [==============================] - 5s 3ms/step - loss: 0.0785 - accuracy: 0.9754\n",
      "Epoch 20/50\n",
      "1750/1750 [==============================] - 5s 3ms/step - loss: 0.0757 - accuracy: 0.9760\n",
      "Epoch 21/50\n",
      "1750/1750 [==============================] - 5s 3ms/step - loss: 0.0756 - accuracy: 0.9758\n",
      "Epoch 22/50\n",
      "1750/1750 [==============================] - 5s 3ms/step - loss: 0.0736 - accuracy: 0.9764\n",
      "Epoch 23/50\n",
      "1750/1750 [==============================] - 5s 3ms/step - loss: 0.0716 - accuracy: 0.9768\n",
      "Epoch 24/50\n",
      "1750/1750 [==============================] - 5s 3ms/step - loss: 0.0688 - accuracy: 0.9779\n",
      "Epoch 25/50\n",
      "1750/1750 [==============================] - 5s 3ms/step - loss: 0.0673 - accuracy: 0.9782\n",
      "Epoch 26/50\n",
      "1750/1750 [==============================] - 5s 3ms/step - loss: 0.0644 - accuracy: 0.9796: 0s - l\n",
      "Epoch 27/50\n",
      "1750/1750 [==============================] - 5s 3ms/step - loss: 0.0642 - accuracy: 0.9793\n",
      "Epoch 28/50\n",
      "1750/1750 [==============================] - 5s 3ms/step - loss: 0.0632 - accuracy: 0.9797\n",
      "Epoch 29/50\n",
      "1750/1750 [==============================] - 5s 3ms/step - loss: 0.0605 - accuracy: 0.9809\n",
      "Epoch 30/50\n",
      "1750/1750 [==============================] - 5s 3ms/step - loss: 0.0598 - accuracy: 0.9807\n",
      "Epoch 31/50\n",
      "1750/1750 [==============================] - 5s 3ms/step - loss: 0.0578 - accuracy: 0.9816\n",
      "Epoch 32/50\n",
      "1750/1750 [==============================] - 5s 3ms/step - loss: 0.0566 - accuracy: 0.9811\n",
      "Epoch 33/50\n",
      "1750/1750 [==============================] - 5s 3ms/step - loss: 0.0563 - accuracy: 0.9817\n",
      "Epoch 34/50\n",
      "1750/1750 [==============================] - 5s 3ms/step - loss: 0.0536 - accuracy: 0.9830\n",
      "Epoch 35/50\n",
      "1750/1750 [==============================] - 5s 3ms/step - loss: 0.0527 - accuracy: 0.9827\n",
      "Epoch 36/50\n",
      "1750/1750 [==============================] - 5s 3ms/step - loss: 0.0511 - accuracy: 0.9831\n",
      "Epoch 37/50\n",
      "1750/1750 [==============================] - 5s 3ms/step - loss: 0.0496 - accuracy: 0.9837\n",
      "Epoch 38/50\n",
      "1750/1750 [==============================] - 5s 3ms/step - loss: 0.0498 - accuracy: 0.9837\n",
      "Epoch 39/50\n",
      "1750/1750 [==============================] - 5s 3ms/step - loss: 0.0476 - accuracy: 0.9845: 0s\n",
      "Epoch 40/50\n",
      "1750/1750 [==============================] - 5s 3ms/step - loss: 0.0487 - accuracy: 0.9842\n",
      "Epoch 41/50\n",
      "1750/1750 [==============================] - 5s 3ms/step - loss: 0.0478 - accuracy: 0.9843\n",
      "Epoch 42/50\n",
      "1750/1750 [==============================] - 5s 3ms/step - loss: 0.0472 - accuracy: 0.9842\n",
      "Epoch 43/50\n",
      "1750/1750 [==============================] - 5s 3ms/step - loss: 0.0457 - accuracy: 0.9854: 0s - loss: 0.0453 - accuracy: \n",
      "Epoch 44/50\n",
      "1750/1750 [==============================] - 5s 3ms/step - loss: 0.0453 - accuracy: 0.9847\n",
      "Epoch 45/50\n",
      "1750/1750 [==============================] - 5s 3ms/step - loss: 0.0437 - accuracy: 0.9855\n",
      "Epoch 46/50\n",
      "1750/1750 [==============================] - 5s 3ms/step - loss: 0.0422 - accuracy: 0.9861\n",
      "Epoch 47/50\n",
      "1750/1750 [==============================] - 5s 3ms/step - loss: 0.0424 - accuracy: 0.9861\n",
      "Epoch 48/50\n",
      "1750/1750 [==============================] - 5s 3ms/step - loss: 0.0413 - accuracy: 0.9868\n",
      "Epoch 49/50\n",
      "1750/1750 [==============================] - 5s 3ms/step - loss: 0.0396 - accuracy: 0.9870\n",
      "Epoch 50/50\n",
      "1750/1750 [==============================] - 5s 3ms/step - loss: 0.0407 - accuracy: 0.9864: 1s - loss: 0.0403 - ac\n"
     ]
    },
    {
     "data": {
      "text/plain": [
       "<keras.callbacks.History at 0x290fc4a8d60>"
      ]
     },
     "execution_count": 19,
     "metadata": {},
     "output_type": "execute_result"
    }
   ],
   "source": [
    "# モデル訓練\n",
    "model.fit(X_train, y_train, epochs=50)"
   ]
  },
  {
   "cell_type": "code",
   "execution_count": 20,
   "metadata": {},
   "outputs": [
    {
     "name": "stdout",
     "output_type": "stream",
     "text": [
      "実行時間:268.4885687828064[秒]\n"
     ]
    }
   ],
   "source": [
    "# 計測した結果を出力\n",
    "tat_time = time.time() - start_time\n",
    "print (\"実行時間:{0}\".format(tat_time) + \"[秒]\")"
   ]
  },
  {
   "cell_type": "code",
   "execution_count": 21,
   "metadata": {},
   "outputs": [],
   "source": [
    "# テストデータで推測結果を出力\n",
    "cnn_pred = model.predict(X_test)"
   ]
  },
  {
   "cell_type": "code",
   "execution_count": 22,
   "metadata": {},
   "outputs": [
    {
     "name": "stdout",
     "output_type": "stream",
     "text": [
      "[7.2156024e-11 3.1388342e-12 8.8126899e-06 2.0176834e-05 6.9956662e-12\n",
      " 9.9572794e-10 7.3062428e-15 7.1904643e-10 9.9997103e-01 5.8874932e-12]\n"
     ]
    }
   ],
   "source": [
    "print(cnn_pred[0])"
   ]
  },
  {
   "cell_type": "code",
   "execution_count": 23,
   "metadata": {},
   "outputs": [],
   "source": [
    "# 推測結果をクラスラベルへ変換\n",
    "y_pred_CNN = np.argmax(cnn_pred, axis=1)\n",
    "y_test_CNN = np.argmax(y_test, axis=1)"
   ]
  },
  {
   "cell_type": "code",
   "execution_count": 24,
   "metadata": {},
   "outputs": [
    {
     "name": "stdout",
     "output_type": "stream",
     "text": [
      "[[1329    1    1    1    1    0    6    2    2    0]\n",
      " [   0 1586    2    3    2    0    0    4    3    0]\n",
      " [   0    2 1353    3    3    0    3    4   10    2]\n",
      " [   2    0    7 1399    0    7    0    5   11    2]\n",
      " [   1    0    0    0 1281    0    2    2    1    8]\n",
      " [   0    0    0    4    0 1257    8    0    4    0]\n",
      " [   1    0    0    0    4    1 1388    0    2    0]\n",
      " [   2    1    9    1    2    1    0 1480    2    5]\n",
      " [   1    1    6    2    2    1    2    5 1332    5]\n",
      " [   5    2    1    8   13    1    0    7    6 1377]]\n"
     ]
    }
   ],
   "source": [
    "print(confusion_matrix(y_test_CNN,y_pred_CNN))"
   ]
  },
  {
   "cell_type": "code",
   "execution_count": 25,
   "metadata": {},
   "outputs": [
    {
     "name": "stdout",
     "output_type": "stream",
     "text": [
      "0.9844285714285714\n"
     ]
    }
   ],
   "source": [
    "print(accuracy_score(y_test_CNN,y_pred_CNN))"
   ]
  },
  {
   "cell_type": "code",
   "execution_count": null,
   "metadata": {},
   "outputs": [],
   "source": []
  }
 ],
 "metadata": {
  "kernelspec": {
   "display_name": "Python 3",
   "language": "python",
   "name": "python3"
  },
  "language_info": {
   "codemirror_mode": {
    "name": "ipython",
    "version": 3
   },
   "file_extension": ".py",
   "mimetype": "text/x-python",
   "name": "python",
   "nbconvert_exporter": "python",
   "pygments_lexer": "ipython3",
   "version": "3.8.5"
  }
 },
 "nbformat": 4,
 "nbformat_minor": 4
}
